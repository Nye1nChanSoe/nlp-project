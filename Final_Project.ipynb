{
 "cells": [
  {
   "cell_type": "code",
   "execution_count": 231,
   "id": "278ea757-0cfc-47eb-b405-d5a7bc094613",
   "metadata": {},
   "outputs": [],
   "source": [
    "import pandas as pd\n",
    "from tqdm import tqdm\n",
    "\n",
    "tqdm.pandas()"
   ]
  },
  {
   "cell_type": "code",
   "execution_count": 232,
   "id": "6898b1d8-fcfe-4271-92f4-9cc9d517ad80",
   "metadata": {},
   "outputs": [
    {
     "data": {
      "text/html": [
       "<div>\n",
       "<style scoped>\n",
       "    .dataframe tbody tr th:only-of-type {\n",
       "        vertical-align: middle;\n",
       "    }\n",
       "\n",
       "    .dataframe tbody tr th {\n",
       "        vertical-align: top;\n",
       "    }\n",
       "\n",
       "    .dataframe thead th {\n",
       "        text-align: right;\n",
       "    }\n",
       "</style>\n",
       "<table border=\"1\" class=\"dataframe\">\n",
       "  <thead>\n",
       "    <tr style=\"text-align: right;\">\n",
       "      <th></th>\n",
       "      <th>link</th>\n",
       "      <th>headline</th>\n",
       "      <th>category</th>\n",
       "      <th>short_description</th>\n",
       "      <th>authors</th>\n",
       "      <th>date</th>\n",
       "    </tr>\n",
       "  </thead>\n",
       "  <tbody>\n",
       "    <tr>\n",
       "      <th>0</th>\n",
       "      <td>https://www.huffpost.com/entry/covid-boosters-...</td>\n",
       "      <td>Over 4 Million Americans Roll Up Sleeves For O...</td>\n",
       "      <td>U.S. NEWS</td>\n",
       "      <td>Health experts said it is too early to predict...</td>\n",
       "      <td>Carla K. Johnson, AP</td>\n",
       "      <td>2022-09-23</td>\n",
       "    </tr>\n",
       "    <tr>\n",
       "      <th>1</th>\n",
       "      <td>https://www.huffpost.com/entry/american-airlin...</td>\n",
       "      <td>American Airlines Flyer Charged, Banned For Li...</td>\n",
       "      <td>U.S. NEWS</td>\n",
       "      <td>He was subdued by passengers and crew when he ...</td>\n",
       "      <td>Mary Papenfuss</td>\n",
       "      <td>2022-09-23</td>\n",
       "    </tr>\n",
       "    <tr>\n",
       "      <th>2</th>\n",
       "      <td>https://www.huffpost.com/entry/funniest-tweets...</td>\n",
       "      <td>23 Of The Funniest Tweets About Cats And Dogs ...</td>\n",
       "      <td>COMEDY</td>\n",
       "      <td>\"Until you have a dog you don't understand wha...</td>\n",
       "      <td>Elyse Wanshel</td>\n",
       "      <td>2022-09-23</td>\n",
       "    </tr>\n",
       "    <tr>\n",
       "      <th>3</th>\n",
       "      <td>https://www.huffpost.com/entry/funniest-parent...</td>\n",
       "      <td>The Funniest Tweets From Parents This Week (Se...</td>\n",
       "      <td>PARENTING</td>\n",
       "      <td>\"Accidentally put grown-up toothpaste on my to...</td>\n",
       "      <td>Caroline Bologna</td>\n",
       "      <td>2022-09-23</td>\n",
       "    </tr>\n",
       "    <tr>\n",
       "      <th>4</th>\n",
       "      <td>https://www.huffpost.com/entry/amy-cooper-lose...</td>\n",
       "      <td>Woman Who Called Cops On Black Bird-Watcher Lo...</td>\n",
       "      <td>U.S. NEWS</td>\n",
       "      <td>Amy Cooper accused investment firm Franklin Te...</td>\n",
       "      <td>Nina Golgowski</td>\n",
       "      <td>2022-09-22</td>\n",
       "    </tr>\n",
       "  </tbody>\n",
       "</table>\n",
       "</div>"
      ],
      "text/plain": [
       "                                                link  \\\n",
       "0  https://www.huffpost.com/entry/covid-boosters-...   \n",
       "1  https://www.huffpost.com/entry/american-airlin...   \n",
       "2  https://www.huffpost.com/entry/funniest-tweets...   \n",
       "3  https://www.huffpost.com/entry/funniest-parent...   \n",
       "4  https://www.huffpost.com/entry/amy-cooper-lose...   \n",
       "\n",
       "                                            headline   category  \\\n",
       "0  Over 4 Million Americans Roll Up Sleeves For O...  U.S. NEWS   \n",
       "1  American Airlines Flyer Charged, Banned For Li...  U.S. NEWS   \n",
       "2  23 Of The Funniest Tweets About Cats And Dogs ...     COMEDY   \n",
       "3  The Funniest Tweets From Parents This Week (Se...  PARENTING   \n",
       "4  Woman Who Called Cops On Black Bird-Watcher Lo...  U.S. NEWS   \n",
       "\n",
       "                                   short_description               authors  \\\n",
       "0  Health experts said it is too early to predict...  Carla K. Johnson, AP   \n",
       "1  He was subdued by passengers and crew when he ...        Mary Papenfuss   \n",
       "2  \"Until you have a dog you don't understand wha...         Elyse Wanshel   \n",
       "3  \"Accidentally put grown-up toothpaste on my to...      Caroline Bologna   \n",
       "4  Amy Cooper accused investment firm Franklin Te...        Nina Golgowski   \n",
       "\n",
       "        date  \n",
       "0 2022-09-23  \n",
       "1 2022-09-23  \n",
       "2 2022-09-23  \n",
       "3 2022-09-23  \n",
       "4 2022-09-22  "
      ]
     },
     "execution_count": 232,
     "metadata": {},
     "output_type": "execute_result"
    }
   ],
   "source": [
    "df = pd.read_json(\"./news_dataset.json\", lines=True)\n",
    "\n",
    "df.head()"
   ]
  },
  {
   "cell_type": "code",
   "execution_count": 233,
   "id": "c0efee8f-af45-4276-a7fe-2c6631d74b78",
   "metadata": {},
   "outputs": [
    {
     "data": {
      "text/plain": [
       "[('POLITICS', 35602),\n",
       " ('WELLNESS', 17945),\n",
       " ('ENTERTAINMENT', 17362),\n",
       " ('TRAVEL', 9900),\n",
       " ('STYLE & BEAUTY', 9814),\n",
       " ('PARENTING', 8791),\n",
       " ('HEALTHY LIVING', 6694),\n",
       " ('QUEER VOICES', 6347),\n",
       " ('FOOD & DRINK', 6340),\n",
       " ('BUSINESS', 5992),\n",
       " ('COMEDY', 5400),\n",
       " ('SPORTS', 5077),\n",
       " ('BLACK VOICES', 4583),\n",
       " ('HOME & LIVING', 4320),\n",
       " ('PARENTS', 3955),\n",
       " ('THE WORLDPOST', 3664),\n",
       " ('WEDDINGS', 3653),\n",
       " ('WOMEN', 3572),\n",
       " ('CRIME', 3562),\n",
       " ('IMPACT', 3484),\n",
       " ('DIVORCE', 3426),\n",
       " ('WORLD NEWS', 3299),\n",
       " ('MEDIA', 2944),\n",
       " ('WEIRD NEWS', 2777),\n",
       " ('GREEN', 2622),\n",
       " ('WORLDPOST', 2579),\n",
       " ('RELIGION', 2577),\n",
       " ('STYLE', 2254),\n",
       " ('SCIENCE', 2206),\n",
       " ('TECH', 2104)]"
      ]
     },
     "execution_count": 233,
     "metadata": {},
     "output_type": "execute_result"
    }
   ],
   "source": [
    "counter = Counter(df['category'])\n",
    "counter.most_common(30)"
   ]
  },
  {
   "cell_type": "code",
   "execution_count": 234,
   "id": "e7bffd91-81b7-4266-98ae-b9c77ffc5435",
   "metadata": {},
   "outputs": [],
   "source": [
    "top_cats = [cat for cat, i in counter.most_common(6)] + [\"SPORTS\"]\n",
    "df = df[df[\"category\"].isin(top_cats)].copy()"
   ]
  },
  {
   "cell_type": "code",
   "execution_count": 235,
   "id": "142c7554-093e-4fbb-9593-ec4d449593a4",
   "metadata": {},
   "outputs": [
    {
     "data": {
      "text/plain": [
       "{'PARENTING': 0,\n",
       " 'SPORTS': 1,\n",
       " 'ENTERTAINMENT': 2,\n",
       " 'POLITICS': 3,\n",
       " 'WELLNESS': 4,\n",
       " 'STYLE & BEAUTY': 5,\n",
       " 'TRAVEL': 6}"
      ]
     },
     "execution_count": 235,
     "metadata": {},
     "output_type": "execute_result"
    }
   ],
   "source": [
    "CATEGORIES = {cat:idx for idx, cat in enumerate(df['category'].unique())}\n",
    "CATEGORIES"
   ]
  },
  {
   "cell_type": "code",
   "execution_count": 236,
   "id": "be470007-de7a-46b4-a0c3-3003b4732742",
   "metadata": {},
   "outputs": [
    {
     "data": {
      "text/html": [
       "<div>\n",
       "<style scoped>\n",
       "    .dataframe tbody tr th:only-of-type {\n",
       "        vertical-align: middle;\n",
       "    }\n",
       "\n",
       "    .dataframe tbody tr th {\n",
       "        vertical-align: top;\n",
       "    }\n",
       "\n",
       "    .dataframe thead th {\n",
       "        text-align: right;\n",
       "    }\n",
       "</style>\n",
       "<table border=\"1\" class=\"dataframe\">\n",
       "  <thead>\n",
       "    <tr style=\"text-align: right;\">\n",
       "      <th></th>\n",
       "      <th>link</th>\n",
       "      <th>headline</th>\n",
       "      <th>category</th>\n",
       "      <th>short_description</th>\n",
       "      <th>authors</th>\n",
       "      <th>date</th>\n",
       "      <th>label</th>\n",
       "    </tr>\n",
       "  </thead>\n",
       "  <tbody>\n",
       "    <tr>\n",
       "      <th>3</th>\n",
       "      <td>https://www.huffpost.com/entry/funniest-parent...</td>\n",
       "      <td>The Funniest Tweets From Parents This Week (Se...</td>\n",
       "      <td>PARENTING</td>\n",
       "      <td>\"Accidentally put grown-up toothpaste on my to...</td>\n",
       "      <td>Caroline Bologna</td>\n",
       "      <td>2022-09-23</td>\n",
       "      <td>0</td>\n",
       "    </tr>\n",
       "    <tr>\n",
       "      <th>17</th>\n",
       "      <td>https://www.huffpost.com/entry/dodgers-basebal...</td>\n",
       "      <td>Maury Wills, Base-Stealing Shortstop For Dodge...</td>\n",
       "      <td>SPORTS</td>\n",
       "      <td>Maury Wills, who helped the Los Angeles Dodger...</td>\n",
       "      <td>Beth Harris, AP</td>\n",
       "      <td>2022-09-20</td>\n",
       "      <td>1</td>\n",
       "    </tr>\n",
       "    <tr>\n",
       "      <th>20</th>\n",
       "      <td>https://www.huffpost.com/entry/golden-globes-r...</td>\n",
       "      <td>Golden Globes Returning To NBC In January Afte...</td>\n",
       "      <td>ENTERTAINMENT</td>\n",
       "      <td>For the past 18 months, Hollywood has effectiv...</td>\n",
       "      <td></td>\n",
       "      <td>2022-09-20</td>\n",
       "      <td>2</td>\n",
       "    </tr>\n",
       "    <tr>\n",
       "      <th>21</th>\n",
       "      <td>https://www.huffpost.com/entry/biden-us-forces...</td>\n",
       "      <td>Biden Says U.S. Forces Would Defend Taiwan If ...</td>\n",
       "      <td>POLITICS</td>\n",
       "      <td>President issues vow as tensions with China rise.</td>\n",
       "      <td></td>\n",
       "      <td>2022-09-19</td>\n",
       "      <td>3</td>\n",
       "    </tr>\n",
       "    <tr>\n",
       "      <th>24</th>\n",
       "      <td>https://www.huffpost.com/entry/ukraine-festiva...</td>\n",
       "      <td>‘Beautiful And Sad At The Same Time’: Ukrainia...</td>\n",
       "      <td>POLITICS</td>\n",
       "      <td>An annual celebration took on a different feel...</td>\n",
       "      <td>Jonathan Nicholson</td>\n",
       "      <td>2022-09-19</td>\n",
       "      <td>3</td>\n",
       "    </tr>\n",
       "  </tbody>\n",
       "</table>\n",
       "</div>"
      ],
      "text/plain": [
       "                                                 link  \\\n",
       "3   https://www.huffpost.com/entry/funniest-parent...   \n",
       "17  https://www.huffpost.com/entry/dodgers-basebal...   \n",
       "20  https://www.huffpost.com/entry/golden-globes-r...   \n",
       "21  https://www.huffpost.com/entry/biden-us-forces...   \n",
       "24  https://www.huffpost.com/entry/ukraine-festiva...   \n",
       "\n",
       "                                             headline       category  \\\n",
       "3   The Funniest Tweets From Parents This Week (Se...      PARENTING   \n",
       "17  Maury Wills, Base-Stealing Shortstop For Dodge...         SPORTS   \n",
       "20  Golden Globes Returning To NBC In January Afte...  ENTERTAINMENT   \n",
       "21  Biden Says U.S. Forces Would Defend Taiwan If ...       POLITICS   \n",
       "24  ‘Beautiful And Sad At The Same Time’: Ukrainia...       POLITICS   \n",
       "\n",
       "                                    short_description             authors  \\\n",
       "3   \"Accidentally put grown-up toothpaste on my to...    Caroline Bologna   \n",
       "17  Maury Wills, who helped the Los Angeles Dodger...     Beth Harris, AP   \n",
       "20  For the past 18 months, Hollywood has effectiv...                       \n",
       "21  President issues vow as tensions with China rise.                       \n",
       "24  An annual celebration took on a different feel...  Jonathan Nicholson   \n",
       "\n",
       "         date  label  \n",
       "3  2022-09-23      0  \n",
       "17 2022-09-20      1  \n",
       "20 2022-09-20      2  \n",
       "21 2022-09-19      3  \n",
       "24 2022-09-19      3  "
      ]
     },
     "execution_count": 236,
     "metadata": {},
     "output_type": "execute_result"
    }
   ],
   "source": [
    "df['label'] = df['category'].map(CATEGORIES)\n",
    "df.head()"
   ]
  },
  {
   "cell_type": "markdown",
   "id": "a76b3780-33a9-492a-890b-b70d3f5c99ff",
   "metadata": {},
   "source": [
    "# Tokenization"
   ]
  },
  {
   "cell_type": "code",
   "execution_count": 237,
   "id": "2f1d9d83-c4d7-49b6-9b67-e5bd97ffbc43",
   "metadata": {},
   "outputs": [],
   "source": [
    "import spacy\n",
    "from typing import List\n",
    "\n",
    "nlp = spacy.load(\"en_core_web_sm\")"
   ]
  },
  {
   "cell_type": "code",
   "execution_count": 238,
   "id": "94b6253f-86b3-4b2c-8fe1-f08229dce695",
   "metadata": {},
   "outputs": [],
   "source": [
    "def tokenize(headline: str) -> List[str]:\n",
    "    doc = nlp(headline)\n",
    "    return [\n",
    "        token.text.lower()\n",
    "        for token in doc\n",
    "        if not token.is_punct and token.is_alpha\n",
    "    ]"
   ]
  },
  {
   "cell_type": "code",
   "execution_count": 13,
   "id": "1d4de5c9-b503-4ed6-a3d2-b46025970e65",
   "metadata": {},
   "outputs": [
    {
     "name": "stderr",
     "output_type": "stream",
     "text": [
      "100%|██████████████████████████████████| 209527/209527 [12:33<00:00, 278.14it/s]\n"
     ]
    }
   ],
   "source": [
    "# df['headline_tokens'] = df['headline'].progress_apply(tokenize)"
   ]
  },
  {
   "cell_type": "code",
   "execution_count": 239,
   "id": "2b00d661-5016-4b60-905e-69f536f1d3c2",
   "metadata": {},
   "outputs": [
    {
     "name": "stderr",
     "output_type": "stream",
     "text": [
      "100%|██████████████████████████████████| 104491/104491 [09:37<00:00, 180.94it/s]\n"
     ]
    }
   ],
   "source": [
    "df['description_tokens'] = df['short_description'].progress_apply(tokenize)"
   ]
  },
  {
   "cell_type": "markdown",
   "id": "5790de70-a953-4781-b4c4-e98cbbce31f1",
   "metadata": {},
   "source": [
    "# Prepare embeddings (GLOVE)"
   ]
  },
  {
   "cell_type": "code",
   "execution_count": 174,
   "id": "8bdec681-52f2-4f54-b35c-17eb84f4e61c",
   "metadata": {},
   "outputs": [],
   "source": [
    "import numpy as np\n",
    "import torch\n",
    "from collections import Counter"
   ]
  },
  {
   "cell_type": "code",
   "execution_count": 91,
   "id": "f3de8eda-64ba-45b8-80ae-3c06b8da5a82",
   "metadata": {},
   "outputs": [],
   "source": [
    "import gensim.downloader as api\n",
    "\n",
    "wv = api.load(\"glove-wiki-gigaword-100\")"
   ]
  },
  {
   "cell_type": "code",
   "execution_count": 22,
   "id": "a47ec708-1cf9-4505-9c50-d4b93c7e73ad",
   "metadata": {},
   "outputs": [],
   "source": [
    "# EMB_DIM = wv.vector_size\n",
    "# UNK_VEC = np.zeros(EMB_DIM, dtype=\"float32\")\n",
    "# VOCAB = set(wv.index_to_key)\n",
    "\n",
    "# def vectorize(tokens: List[str]) -> torch.Tensor:\n",
    "#     vecs = [wv[token] for token in tokens if token in VOCAB]\n",
    "#     if not vecs:\n",
    "#         return torch.from_numpy(UNK_VEC)\n",
    "    \n",
    "#     mean_vec = np.mean(vecs, axis=0).astype(\"float32\")\n",
    "#     return torch.from_numpy(mean_vec)"
   ]
  },
  {
   "cell_type": "code",
   "execution_count": 240,
   "id": "e0133c4b-bfec-439e-ade1-1bf4ae5c70dc",
   "metadata": {},
   "outputs": [
    {
     "name": "stderr",
     "output_type": "stream",
     "text": [
      "100%|███████████████████████████████| 104491/104491 [00:00<00:00, 422040.82it/s]\n"
     ]
    }
   ],
   "source": [
    "EMB_DIM = wv.vector_size\n",
    "\n",
    "counter = Counter(t for tokens in df[\"description_tokens\"] for t in tokens)\n",
    "vocab = {\"<PAD>\":0, # If we need to get specific batch size, but have not enough words in the sentence\n",
    "         \"<UNK>\":1}\n",
    "for token, freq in counter.items():\n",
    "      vocab[token] = len(vocab) # setting unique ID to each token in vocabulary\n",
    "PAD_IDX, UNK_IDX = 0, 1\n",
    "\n",
    "emb_matrix = np.random.normal(scale=0.6, size=(len(vocab), EMB_DIM)).astype(\"float32\")\n",
    "emb_matrix[PAD_IDX] = np.zeros(EMB_DIM)\n",
    "emb_matrix[UNK_IDX] = np.zeros(EMB_DIM)\n",
    "for token, idx in vocab.items():\n",
    "    # check if the token exists in word2vec\n",
    "    # add the line in the embedding matrix as vector for this token\n",
    "    if token in wv:\n",
    "        emb_matrix[idx] = wv[token]\n",
    "\n",
    "def transform_to_indices(tokens):\n",
    "    return [vocab.get(token) for token in tokens]\n",
    "\n",
    "df[\"description_indices\"] = df[\"description_tokens\"].progress_apply(transform_to_indices)"
   ]
  },
  {
   "cell_type": "code",
   "execution_count": 47,
   "id": "adf48845-b5f3-4b46-89bc-46eba446a477",
   "metadata": {},
   "outputs": [
    {
     "name": "stderr",
     "output_type": "stream",
     "text": [
      "100%|████████████████████████████████| 209527/209527 [00:03<00:00, 63506.48it/s]\n"
     ]
    }
   ],
   "source": [
    "# df['headline_vector'] = df['headline_tokens'].progress_apply(vectorize)"
   ]
  },
  {
   "cell_type": "code",
   "execution_count": 14,
   "id": "d6eec130-b890-4269-a984-ff9a03931c37",
   "metadata": {},
   "outputs": [
    {
     "name": "stderr",
     "output_type": "stream",
     "text": [
      "100%|████████████████████████████████| 209527/209527 [00:03<00:00, 58355.69it/s]\n"
     ]
    }
   ],
   "source": [
    "# df['description_vector'] = df['description_tokens'].progress_apply(vectorize)"
   ]
  },
  {
   "cell_type": "code",
   "execution_count": null,
   "id": "ae1375b8-9732-4d29-b838-2d5488db1538",
   "metadata": {},
   "outputs": [],
   "source": [
    "df.head()"
   ]
  },
  {
   "cell_type": "markdown",
   "id": "6e33148b-cb05-4f09-8e72-4f8aceefa365",
   "metadata": {},
   "source": [
    "# Model"
   ]
  },
  {
   "cell_type": "code",
   "execution_count": 176,
   "id": "a521693b-1f49-4170-aa7e-2de20e87a72b",
   "metadata": {},
   "outputs": [],
   "source": [
    "import torch.nn as nn"
   ]
  },
  {
   "cell_type": "code",
   "execution_count": 177,
   "id": "c93f7095-3fbe-4aa1-95d2-8534ac607a2b",
   "metadata": {},
   "outputs": [],
   "source": [
    "class FFNN(nn.Module):\n",
    "    def __init__(self, emb_dim: int, n_classes: int, hidden_dim: int = 64):\n",
    "        super().__init__()\n",
    "        \n",
    "        self.net = nn.Sequential(\n",
    "            nn.Linear(emb_dim, 128),\n",
    "            nn.ReLU(),\n",
    "            nn.Dropout(0.3),\n",
    "            nn.Linear(128, hidden_dim),\n",
    "            nn.ReLU(),\n",
    "            nn.Linear(hidden_dim, n_classes)\n",
    "        )\n",
    "\n",
    "    def forward(self, x):\n",
    "        return self.net(x)"
   ]
  },
  {
   "cell_type": "code",
   "execution_count": 178,
   "id": "c7d58f77-e86b-4c8b-b3eb-e377aec74d58",
   "metadata": {},
   "outputs": [],
   "source": [
    "import torch\n",
    "import torch.nn as nn\n",
    "import torch.nn.functional as F\n",
    "\n",
    "class LSTMAttentionClassifier(nn.Module):\n",
    "    def __init__(self, emb_matrix, n_classes, freeze, hidden=128, num_layers=1, bidirectional=True, dropout=0.3):\n",
    "        super().__init__()\n",
    "        self.bidirectional = bidirectional\n",
    "        self.hidden_size = hidden\n",
    "        self.num_directions = 2 if bidirectional else 1\n",
    "\n",
    "        self.embedding = nn.Embedding.from_pretrained(\n",
    "            torch.tensor(emb_matrix),\n",
    "            freeze=freeze\n",
    "        )\n",
    "\n",
    "        self.lstm = nn.LSTM(\n",
    "            input_size=emb_matrix.shape[1],\n",
    "            hidden_size=hidden,\n",
    "            num_layers=num_layers,\n",
    "            batch_first=True,\n",
    "            bidirectional=bidirectional,\n",
    "            dropout=dropout if num_layers > 1 else 0\n",
    "        )\n",
    "\n",
    "        self.attention = nn.Linear(hidden * self.num_directions, 1)\n",
    "\n",
    "        self.dropout = nn.Dropout(dropout)\n",
    "        self.fc = nn.Linear(hidden * self.num_directions, n_classes)\n",
    "\n",
    "    def forward(self, x, lengths):\n",
    "        emb = self.embedding(x)\n",
    "\n",
    "        packed = nn.utils.rnn.pack_padded_sequence(emb, lengths.cpu(), batch_first=True, enforce_sorted=False)\n",
    "        packed_out, _ = self.lstm(packed)\n",
    "        lstm_out, _ = nn.utils.rnn.pad_packed_sequence(packed_out, batch_first=True)\n",
    "\n",
    "        attn_weights = self.attention(lstm_out)\n",
    "        attn_weights = torch.softmax(attn_weights.squeeze(-1), dim=1).unsqueeze(-1)\n",
    "\n",
    "        context = torch.sum(lstm_out * attn_weights, dim=1)\n",
    "\n",
    "        out = self.dropout(context)\n",
    "        logits = self.fc(out)\n",
    "        return logits"
   ]
  },
  {
   "cell_type": "markdown",
   "id": "dbff9ca3-29d0-4b31-8311-0951a901ce92",
   "metadata": {},
   "source": [
    "# Dataset Preparation"
   ]
  },
  {
   "cell_type": "code",
   "execution_count": 179,
   "id": "39c57e1f-59be-4db3-87f8-f3ca1005524a",
   "metadata": {},
   "outputs": [],
   "source": [
    "from torch.utils.data import Dataset, DataLoader, random_split"
   ]
  },
  {
   "cell_type": "code",
   "execution_count": 180,
   "id": "65c0bfe1-0fac-4288-b4f2-130a4ea05965",
   "metadata": {},
   "outputs": [],
   "source": [
    "# class CustomDataset(Dataset):\n",
    "#     def __init__(self, vecs, labels):\n",
    "#         self.vecs = vecs\n",
    "#         self.labels = labels\n",
    "#     def __len__(self):\n",
    "#         return len(self.vecs)\n",
    "#     def __getitem__(self, idx):\n",
    "#         return self.vecs[idx], self.labels[idx]\n",
    "\n",
    "# # dataset = CustomDataset(df[\"headline_vector\"].tolist(), df[\"label\"].tolist())\n",
    "# dataset = CustomDataset(df[\"description_vector\"].tolist(), df[\"label\"].tolist())\n",
    "# train_size = int(0.8*len(dataset))\n",
    "# val_size = len(dataset) - train_size\n",
    "# train_ds, val_ds = random_split(dataset, [train_size, val_size],\n",
    "#                                 generator=torch.Generator().manual_seed(42))\n",
    "\n",
    "# train_dl = DataLoader(train_ds, batch_size=64, shuffle=True)\n",
    "# val_dl = DataLoader(val_ds, batch_size=64)"
   ]
  },
  {
   "cell_type": "code",
   "execution_count": 241,
   "id": "712435fe-bd00-4ebb-b4e5-2ba472d9132f",
   "metadata": {},
   "outputs": [],
   "source": [
    "df = df[df['description_indices'].apply(lambda x: len(x) > 0)].reset_index(drop=True)"
   ]
  },
  {
   "cell_type": "code",
   "execution_count": 242,
   "id": "c4c4c956-a961-4780-9659-462cbfe6ed2f",
   "metadata": {},
   "outputs": [],
   "source": [
    "from sklearn.model_selection import train_test_split\n",
    "from torch.utils.data import Dataset, DataLoader\n",
    "from torch.nn.utils.rnn import pad_sequence\n",
    "import torch\n",
    "\n",
    "# Создаём списки\n",
    "X = df[\"description_indices\"].tolist()\n",
    "y = df[\"label\"].tolist()\n",
    "\n",
    "# Stratified split\n",
    "X_train, X_val, y_train, y_val = train_test_split(\n",
    "    X, y, test_size=0.2, stratify=y, random_state=42\n",
    ")\n",
    "\n",
    "# Кастомный Dataset\n",
    "class CustomDataset(Dataset):\n",
    "    def __init__(self, idxs, labels):\n",
    "        self.idxs = idxs\n",
    "        self.labels = labels\n",
    "    def __len__(self):\n",
    "        return len(self.idxs)\n",
    "    def __getitem__(self, idx):\n",
    "        return self.idxs[idx], self.labels[idx]\n",
    "\n",
    "# Функция паддинга\n",
    "def pad(batch):\n",
    "    idxs, labels = zip(*batch)\n",
    "    idxs = [torch.tensor(idx, dtype=torch.long) for idx in idxs]\n",
    "    lens = torch.tensor([len(idx) for idx in idxs], dtype=torch.long)\n",
    "    pads = pad_sequence(idxs, batch_first=True, padding_value=PAD_IDX)\n",
    "    return pads, torch.tensor(labels, dtype=torch.float32), lens\n",
    "\n",
    "# Создание датасетов и загрузчиков\n",
    "train_ds = CustomDataset(X_train, y_train)\n",
    "val_ds = CustomDataset(X_val, y_val)\n",
    "\n",
    "train_dl = DataLoader(train_ds, batch_size=32, shuffle=True, collate_fn=pad)\n",
    "val_dl = DataLoader(val_ds, batch_size=64, shuffle=False, collate_fn=pad)"
   ]
  },
  {
   "cell_type": "markdown",
   "id": "ca32c5ee-3210-4eb6-8a72-97eec21d18ba",
   "metadata": {},
   "source": [
    "# Learning"
   ]
  },
  {
   "cell_type": "code",
   "execution_count": 243,
   "id": "e7a83107-d25c-49f9-8348-2d55fe8af757",
   "metadata": {},
   "outputs": [],
   "source": [
    "from sklearn.metrics import accuracy_score, precision_recall_fscore_support"
   ]
  },
  {
   "cell_type": "code",
   "execution_count": 244,
   "id": "884bf10f-b5c3-4aff-b5f6-8c8967a336ab",
   "metadata": {},
   "outputs": [],
   "source": [
    "from torch.optim import Adam\n",
    "\n",
    "device = \"cuda\" if torch.cuda.is_available() else \"cpu\""
   ]
  },
  {
   "cell_type": "code",
   "execution_count": 245,
   "id": "651d861f-b78f-4fdd-a581-aa20f52e8008",
   "metadata": {},
   "outputs": [],
   "source": [
    "from torch.optim import Adam\n",
    "\n",
    "# model = FFNN(EMB_DIM, len(CATEGORIES), hidden_dim=256)\n",
    "# optimizer = Adam(model.parameters())\n",
    "\n",
    "# loss_function = nn.CrossEntropyLoss()"
   ]
  },
  {
   "cell_type": "code",
   "execution_count": 246,
   "id": "1adbbfce-54bb-45a9-9c40-a27316949c1f",
   "metadata": {},
   "outputs": [],
   "source": [
    "# EPOCHS = 20\n",
    "\n",
    "# for epoch in range(EPOCHS):\n",
    "#     epoch_losses = 0\n",
    "    \n",
    "#     model.train()\n",
    "#     for X, y in train_dl:\n",
    "#         y = y.to(device).long()\n",
    "#         X = X.to(device).float()\n",
    "#         optimizer.zero_grad()\n",
    "#         out = model(X)\n",
    "#         loss = loss_function(out, y)\n",
    "#         epoch_losses += loss.detach().cpu().item()\n",
    "#         loss.backward()\n",
    "#         optimizer.step()\n",
    "        \n",
    "#     print(\"Loss function:\", epoch_losses / len(train_dl))\n",
    "\n",
    "#     model.eval()\n",
    "#     preds, true_labels = [], []\n",
    "#     with torch.no_grad():\n",
    "#         for X, y in val_dl:\n",
    "#             X = X.to(device).float()\n",
    "#             logits = model(X)\n",
    "#             probs = torch.softmax(logits, dim=1).cpu()\n",
    "#             preds.extend(torch.argmax(probs, dim=1).cpu().numpy())\n",
    "#             true_labels.extend(y.numpy())\n",
    "\n",
    "#     acc = accuracy_score(true_labels, preds)\n",
    "#     p, r, f1, _ = precision_recall_fscore_support(true_labels, preds, average=\"macro\")\n",
    "#     if epoch % 5 == 0:\n",
    "#         print(f\"Epoch {epoch:02d} | Acc {acc:.3f} · P {p:.3f} · R {r:.3f} · F1 {f1:.3f}\")"
   ]
  },
  {
   "cell_type": "code",
   "execution_count": 247,
   "id": "964071a8-12d5-4e9c-8620-13b47a2a53c5",
   "metadata": {},
   "outputs": [],
   "source": [
    "model = LSTMClassifier(emb_matrix, len(CATEGORIES), False, num_layers=2)\n",
    "optimizer = Adam(model.parameters())\n",
    "loss_function = nn.CrossEntropyLoss()"
   ]
  },
  {
   "cell_type": "code",
   "execution_count": 248,
   "id": "f75f5716-aaa4-461f-853a-5c746d509f20",
   "metadata": {},
   "outputs": [
    {
     "name": "stdout",
     "output_type": "stream",
     "text": [
      "Epoch 00 | Train Loss: 0.8438\n",
      "Saved new best model at epoch 00 with F1 = 0.749\n",
      "Eval  | Acc 0.788 · P 0.778 · R 0.733 · F1 0.749\n",
      "Epoch 01 | Train Loss: 0.5774\n",
      "Saved new best model at epoch 01 with F1 = 0.755\n",
      "Epoch 02 | Train Loss: 0.4498\n",
      "Eval  | Acc 0.785 · P 0.766 · R 0.738 · F1 0.749\n",
      "Epoch 03 | Train Loss: 0.3442\n",
      "Epoch 04 | Train Loss: 0.2602\n",
      "Eval  | Acc 0.765 · P 0.728 · R 0.718 · F1 0.723\n"
     ]
    },
    {
     "ename": "KeyboardInterrupt",
     "evalue": "",
     "output_type": "error",
     "traceback": [
      "\u001b[0;31m---------------------------------------------------------------------------\u001b[0m",
      "\u001b[0;31mKeyboardInterrupt\u001b[0m                         Traceback (most recent call last)",
      "\u001b[0;32m/var/folders/xn/lflh1yp970d_1h6_yp1ns7180000gn/T/ipykernel_64334/3107212416.py\u001b[0m in \u001b[0;36m<cell line: 0>\u001b[0;34m()\u001b[0m\n\u001b[1;32m     15\u001b[0m         \u001b[0mout\u001b[0m \u001b[0;34m=\u001b[0m \u001b[0mmodel\u001b[0m\u001b[0;34m(\u001b[0m\u001b[0mX\u001b[0m\u001b[0;34m,\u001b[0m \u001b[0mlengths\u001b[0m\u001b[0;34m)\u001b[0m\u001b[0;34m\u001b[0m\u001b[0;34m\u001b[0m\u001b[0m\n\u001b[1;32m     16\u001b[0m         \u001b[0mloss\u001b[0m \u001b[0;34m=\u001b[0m \u001b[0mloss_function\u001b[0m\u001b[0;34m(\u001b[0m\u001b[0mout\u001b[0m\u001b[0;34m,\u001b[0m \u001b[0my\u001b[0m\u001b[0;34m)\u001b[0m\u001b[0;34m\u001b[0m\u001b[0;34m\u001b[0m\u001b[0m\n\u001b[0;32m---> 17\u001b[0;31m         \u001b[0mloss\u001b[0m\u001b[0;34m.\u001b[0m\u001b[0mbackward\u001b[0m\u001b[0;34m(\u001b[0m\u001b[0;34m)\u001b[0m\u001b[0;34m\u001b[0m\u001b[0;34m\u001b[0m\u001b[0m\n\u001b[0m\u001b[1;32m     18\u001b[0m         \u001b[0moptimizer\u001b[0m\u001b[0;34m.\u001b[0m\u001b[0mstep\u001b[0m\u001b[0;34m(\u001b[0m\u001b[0;34m)\u001b[0m\u001b[0;34m\u001b[0m\u001b[0;34m\u001b[0m\u001b[0m\n\u001b[1;32m     19\u001b[0m \u001b[0;34m\u001b[0m\u001b[0m\n",
      "\u001b[0;32m~/.pyenv/versions/p3.12/lib/python3.12/site-packages/torch/_tensor.py\u001b[0m in \u001b[0;36mbackward\u001b[0;34m(self, gradient, retain_graph, create_graph, inputs)\u001b[0m\n\u001b[1;32m    520\u001b[0m                 \u001b[0minputs\u001b[0m\u001b[0;34m=\u001b[0m\u001b[0minputs\u001b[0m\u001b[0;34m,\u001b[0m\u001b[0;34m\u001b[0m\u001b[0;34m\u001b[0m\u001b[0m\n\u001b[1;32m    521\u001b[0m             \u001b[0;34m)\u001b[0m\u001b[0;34m\u001b[0m\u001b[0;34m\u001b[0m\u001b[0m\n\u001b[0;32m--> 522\u001b[0;31m         torch.autograd.backward(\n\u001b[0m\u001b[1;32m    523\u001b[0m             \u001b[0mself\u001b[0m\u001b[0;34m,\u001b[0m \u001b[0mgradient\u001b[0m\u001b[0;34m,\u001b[0m \u001b[0mretain_graph\u001b[0m\u001b[0;34m,\u001b[0m \u001b[0mcreate_graph\u001b[0m\u001b[0;34m,\u001b[0m \u001b[0minputs\u001b[0m\u001b[0;34m=\u001b[0m\u001b[0minputs\u001b[0m\u001b[0;34m\u001b[0m\u001b[0;34m\u001b[0m\u001b[0m\n\u001b[1;32m    524\u001b[0m         \u001b[0;34m)\u001b[0m\u001b[0;34m\u001b[0m\u001b[0;34m\u001b[0m\u001b[0m\n",
      "\u001b[0;32m~/.pyenv/versions/p3.12/lib/python3.12/site-packages/torch/autograd/__init__.py\u001b[0m in \u001b[0;36mbackward\u001b[0;34m(tensors, grad_tensors, retain_graph, create_graph, grad_variables, inputs)\u001b[0m\n\u001b[1;32m    264\u001b[0m     \u001b[0;31m# some Python versions print out the first line of a multi-line function\u001b[0m\u001b[0;34m\u001b[0m\u001b[0;34m\u001b[0m\u001b[0m\n\u001b[1;32m    265\u001b[0m     \u001b[0;31m# calls in the traceback and some print out the last line\u001b[0m\u001b[0;34m\u001b[0m\u001b[0;34m\u001b[0m\u001b[0m\n\u001b[0;32m--> 266\u001b[0;31m     Variable._execution_engine.run_backward(  # Calls into the C++ engine to run the backward pass\n\u001b[0m\u001b[1;32m    267\u001b[0m         \u001b[0mtensors\u001b[0m\u001b[0;34m,\u001b[0m\u001b[0;34m\u001b[0m\u001b[0;34m\u001b[0m\u001b[0m\n\u001b[1;32m    268\u001b[0m         \u001b[0mgrad_tensors_\u001b[0m\u001b[0;34m,\u001b[0m\u001b[0;34m\u001b[0m\u001b[0;34m\u001b[0m\u001b[0m\n",
      "\u001b[0;31mKeyboardInterrupt\u001b[0m: "
     ]
    }
   ],
   "source": [
    "EPOCHS = 20\n",
    "best_f1 = 0.0\n",
    "best_model_path = \"best_model.pt\"\n",
    "\n",
    "for epoch in range(EPOCHS):\n",
    "    epoch_losses = 0\n",
    "    model.train()\n",
    "\n",
    "    for X, y, lengths in train_dl:\n",
    "        X = X.to(device).long()\n",
    "        y = y.to(device).long()\n",
    "        lengths = lengths.to(device)\n",
    "\n",
    "        optimizer.zero_grad()\n",
    "        out = model(X, lengths)\n",
    "        loss = loss_function(out, y)\n",
    "        loss.backward()\n",
    "        optimizer.step()\n",
    "\n",
    "        epoch_losses += loss.item() * X.size(0)\n",
    "\n",
    "    avg_loss = epoch_losses / len(train_dl.dataset)\n",
    "    print(f\"Epoch {epoch:02d} | Train Loss: {avg_loss:.4f}\")\n",
    "\n",
    "    model.eval()\n",
    "    preds, true_labels = [], []\n",
    "\n",
    "    with torch.no_grad():\n",
    "        for X, y, lengths in val_dl:\n",
    "            X = X.to(device).long()\n",
    "            y = y.to(device).long()\n",
    "            lengths = lengths.to(device)\n",
    "\n",
    "            logits = model(X, lengths)\n",
    "            pred_labels = torch.argmax(torch.softmax(logits, dim=1), dim=1)\n",
    "\n",
    "            preds.extend(pred_labels.cpu().numpy())\n",
    "            true_labels.extend(y.cpu().numpy())\n",
    "\n",
    "    acc = accuracy_score(true_labels, preds)\n",
    "    p, r, f1, _ = precision_recall_fscore_support(true_labels, preds, average=\"macro\")\n",
    "\n",
    "    if f1 > best_f1:\n",
    "        best_f1 = f1\n",
    "        torch.save(model.state_dict(), best_model_path)\n",
    "        print(f\"Saved new best model at epoch {epoch:02d} with F1 = {f1:.3f}\")\n",
    "\n",
    "    if epoch % 2 == 0 or epoch == EPOCHS - 1:\n",
    "        print(f\"Eval  | Acc {acc:.3f} · P {p:.3f} · R {r:.3f} · F1 {f1:.3f}\")"
   ]
  },
  {
   "cell_type": "code",
   "execution_count": 249,
   "id": "dce68ee8-8282-48c6-bf5a-44206c1200e4",
   "metadata": {},
   "outputs": [],
   "source": [
    "import torch\n",
    "from torch.nn.utils.rnn import pad_sequence\n",
    "\n",
    "def predict_category(text: str, model, vocab, categories, device, tokenize, PAD_IDX=0):\n",
    "    model.eval()\n",
    "    tokens = tokenize(text)\n",
    "\n",
    "    if len(tokens) == 0:\n",
    "        return \"Unknown\"\n",
    "\n",
    "    indices = [vocab.get(token, vocab.get(\"<UNK>\", 1)) for token in tokens]\n",
    "    tensor = torch.tensor(indices, dtype=torch.long).unsqueeze(0).to(device)  # [1, seq_len]\n",
    "    lengths = torch.tensor([len(indices)]).to(device)\n",
    "\n",
    "    with torch.no_grad():\n",
    "        logits = model(tensor, lengths)\n",
    "        probs = torch.softmax(logits, dim=1)\n",
    "        predicted_class = torch.argmax(probs, dim=1).item()\n",
    "\n",
    "    return categories[predicted_class]"
   ]
  },
  {
   "cell_type": "markdown",
   "id": "5f1f3374-c0f0-4499-80d9-c30b5cc4ceb2",
   "metadata": {},
   "source": [
    "# Tests"
   ]
  },
  {
   "cell_type": "code",
   "execution_count": 250,
   "id": "920fb1b2-f840-4a0d-86c6-0426db5a3fbb",
   "metadata": {},
   "outputs": [
    {
     "data": {
      "text/plain": [
       "LSTMClassifier(\n",
       "  (embedding): Embedding(52877, 100, padding_idx=0)\n",
       "  (lstm): LSTM(100, 128, num_layers=2, batch_first=True, dropout=0.4)\n",
       "  (dropout): Dropout(p=0.4, inplace=False)\n",
       "  (fc): Linear(in_features=128, out_features=7, bias=True)\n",
       ")"
      ]
     },
     "execution_count": 250,
     "metadata": {},
     "output_type": "execute_result"
    }
   ],
   "source": [
    "model = LSTMClassifier(emb_matrix, len(CATEGORIES), False, num_layers=2)\n",
    "\n",
    "model.load_state_dict(torch.load(\"best_model.pt\"))\n",
    "\n",
    "model.to(device)\n",
    "\n",
    "model.eval()"
   ]
  },
  {
   "cell_type": "code",
   "execution_count": 251,
   "id": "1e52b720-9c2c-4568-8e8e-d7cb107ffa11",
   "metadata": {},
   "outputs": [],
   "source": [
    "# inv_cats = {  }\n",
    "inv_cats = {idx:word for idx, word in enumerate(CATEGORIES)}"
   ]
  },
  {
   "cell_type": "code",
   "execution_count": 252,
   "id": "8541fde8-6596-4f3e-91fb-646b7112f5ce",
   "metadata": {},
   "outputs": [],
   "source": [
    "descriptions = [\n",
    "    \"President addresses the nation on upcoming policy changes and budget reforms.\",\n",
    "    \"10 mindfulness techniques to reduce daily stress and improve sleep.\",\n",
    "    \"Top 5 destinations in Europe to visit this summer on a budget.\",\n",
    "    \"Actor surprises fans with unexpected appearance at film festival.\",\n",
    "    \"Senate debates controversial law affecting voting rights across states.\",\n",
    "    \"Healthy breakfast recipes to kickstart your metabolism every morning.\",\n",
    "    \"Behind the scenes of the latest Hollywood blockbuster release.\",\n",
    "    \"Best hiking trails in Southeast Asia for nature lovers and adventurers.\",\n",
    "    \"Government releases new guidelines for international trade relations.\",\n",
    "    \"Yoga and breathing exercises that can ease anxiety and boost focus.\",\n",
    "    \"Trump's voters want to see the Epstein files - but have faith in their president\",\n",
    "    \"Hidden in a quiet Italian town is one of the world's most unique art schools – and a rewarding destination for curious travellers.\"\n",
    "]"
   ]
  },
  {
   "cell_type": "code",
   "execution_count": 253,
   "id": "a72dacd0-fa10-4eb7-b4db-2e3a5cc5a175",
   "metadata": {},
   "outputs": [
    {
     "name": "stdout",
     "output_type": "stream",
     "text": [
      "Description: President addresses the nation on upcoming policy changes and budget reforms.\n",
      "Predicted category: POLITICS\n",
      "-----------------\n",
      "Description: 10 mindfulness techniques to reduce daily stress and improve sleep.\n",
      "Predicted category: WELLNESS\n",
      "-----------------\n",
      "Description: Top 5 destinations in Europe to visit this summer on a budget.\n",
      "Predicted category: TRAVEL\n",
      "-----------------\n",
      "Description: Actor surprises fans with unexpected appearance at film festival.\n",
      "Predicted category: ENTERTAINMENT\n",
      "-----------------\n",
      "Description: Senate debates controversial law affecting voting rights across states.\n",
      "Predicted category: POLITICS\n",
      "-----------------\n",
      "Description: Healthy breakfast recipes to kickstart your metabolism every morning.\n",
      "Predicted category: WELLNESS\n",
      "-----------------\n",
      "Description: Behind the scenes of the latest Hollywood blockbuster release.\n",
      "Predicted category: ENTERTAINMENT\n",
      "-----------------\n",
      "Description: Best hiking trails in Southeast Asia for nature lovers and adventurers.\n",
      "Predicted category: TRAVEL\n",
      "-----------------\n",
      "Description: Government releases new guidelines for international trade relations.\n",
      "Predicted category: POLITICS\n",
      "-----------------\n",
      "Description: Yoga and breathing exercises that can ease anxiety and boost focus.\n",
      "Predicted category: WELLNESS\n",
      "-----------------\n",
      "Description: Trump's voters want to see the Epstein files - but have faith in their president\n",
      "Predicted category: POLITICS\n",
      "-----------------\n",
      "Description: Hidden in a quiet Italian town is one of the world's most unique art schools – and a rewarding destination for curious travellers.\n",
      "Predicted category: TRAVEL\n",
      "-----------------\n"
     ]
    }
   ],
   "source": [
    "for desc in descriptions:\n",
    "    predicted = predict_category(\n",
    "        desc,\n",
    "        model=model,\n",
    "        vocab=vocab,\n",
    "        categories=inv_cats,\n",
    "        device=device,\n",
    "        tokenize=tokenize,\n",
    "        PAD_IDX=PAD_IDX\n",
    "    )\n",
    "    print(\"Description:\", desc)\n",
    "    print(\"Predicted category:\", predicted)\n",
    "    print(\"-----------------\")"
   ]
  },
  {
   "cell_type": "code",
   "execution_count": 255,
   "id": "b3b95d64-4147-4bef-8804-7641ba49f5f9",
   "metadata": {},
   "outputs": [
    {
     "name": "stdout",
     "output_type": "stream",
     "text": [
      "Description: Tips for new parents to help toddlers sleep through the night.\n",
      "Predicted category: PARENTING\n",
      "-----------------\n",
      "Description: How to talk to your teenager about social media and mental health.\n",
      "Predicted category: POLITICS\n",
      "-----------------\n",
      "Description: A behind-the-scenes look at the latest Marvel movie production.\n",
      "Predicted category: ENTERTAINMENT\n",
      "-----------------\n",
      "Description: Famous pop singer drops surprise album and breaks streaming records.\n",
      "Predicted category: ENTERTAINMENT\n",
      "-----------------\n",
      "Description: The Senate passes a new climate bill after weeks of negotiations.\n",
      "Predicted category: POLITICS\n",
      "-----------------\n",
      "Description: President addresses economic recovery in latest press conference.\n",
      "Predicted category: POLITICS\n",
      "-----------------\n",
      "Description: 10 easy yoga poses to reduce anxiety and improve posture.\n",
      "Predicted category: WELLNESS\n",
      "-----------------\n",
      "Description: Experts share strategies to maintain emotional well-being during winter.\n",
      "Predicted category: WELLNESS\n",
      "-----------------\n",
      "Description: Fall fashion trends to refresh your wardrobe this season.\n",
      "Predicted category: STYLE & BEAUTY\n",
      "-----------------\n",
      "Description: The rise of sustainable beauty brands in the cosmetics industry.\n",
      "Predicted category: STYLE & BEAUTY\n",
      "-----------------\n",
      "Description: Ready to refresh your wardrobe for this summer with the president of the USA?\n",
      "Predicted category: STYLE & BEAUTY\n",
      "-----------------\n",
      "Description: Top 10 hidden islands to explore in Southeast Asia.\n",
      "Predicted category: TRAVEL\n",
      "-----------------\n",
      "Description: A guide to experiencing Paris like a local on a weekend trip.\n",
      "Predicted category: TRAVEL\n",
      "-----------------\n"
     ]
    }
   ],
   "source": [
    "descs = [\n",
    "    # PARENTING\n",
    "    \"Tips for new parents to help toddlers sleep through the night.\",\n",
    "    \"How to talk to your teenager about social media and mental health.\",\n",
    "\n",
    "    # ENTERTAINMENT\n",
    "    \"A behind-the-scenes look at the latest Marvel movie production.\",\n",
    "    \"Famous pop singer drops surprise album and breaks streaming records.\",\n",
    "\n",
    "    # POLITICS\n",
    "    \"The Senate passes a new climate bill after weeks of negotiations.\",\n",
    "    \"President addresses economic recovery in latest press conference.\",\n",
    "\n",
    "    # WELLNESS\n",
    "    \"10 easy yoga poses to reduce anxiety and improve posture.\",\n",
    "    \"Experts share strategies to maintain emotional well-being during winter.\",\n",
    "\n",
    "    # STYLE & BEAUTY\n",
    "    \"Fall fashion trends to refresh your wardrobe this season.\",\n",
    "    \"The rise of sustainable beauty brands in the cosmetics industry.\",\n",
    "    \"Ready to refresh your wardrobe for this summer with the president of the USA?\",\n",
    "\n",
    "    # TRAVEL\n",
    "    \"Top 10 hidden islands to explore in Southeast Asia.\",\n",
    "    \"A guide to experiencing Paris like a local on a weekend trip.\"\n",
    "]\n",
    "\n",
    "\n",
    "for desc in descs:\n",
    "    predicted = predict_category(\n",
    "        desc,\n",
    "        model=model,\n",
    "        vocab=vocab,\n",
    "        categories=inv_cats,\n",
    "        device=device,\n",
    "        tokenize=tokenize,\n",
    "        PAD_IDX=PAD_IDX\n",
    "    )\n",
    "    print(\"Description:\", desc)\n",
    "    print(\"Predicted category:\", predicted)\n",
    "    print(\"-----------------\")"
   ]
  },
  {
   "cell_type": "code",
   "execution_count": 194,
   "id": "63bfc306-d671-4134-998a-fb6f815cff08",
   "metadata": {},
   "outputs": [
    {
     "data": {
      "text/plain": [
       "{'PARENTING': 0,\n",
       " 'ENTERTAINMENT': 1,\n",
       " 'POLITICS': 2,\n",
       " 'WELLNESS': 3,\n",
       " 'STYLE & BEAUTY': 4,\n",
       " 'TRAVEL': 5}"
      ]
     },
     "execution_count": 194,
     "metadata": {},
     "output_type": "execute_result"
    }
   ],
   "source": [
    "CATEGORIES"
   ]
  },
  {
   "cell_type": "code",
   "execution_count": 256,
   "id": "276fbcd7-aef1-4e7a-b020-b9ca3feba829",
   "metadata": {},
   "outputs": [
    {
     "name": "stdout",
     "output_type": "stream",
     "text": [
      "Description: Local football team wins the championship after dramatic penalty shootout.\n",
      "Predicted category: SPORTS\n",
      "-----------------\n",
      "Description: Olympic sprinter sets new world record in 100-meter dash.\n",
      "Predicted category: SPORTS\n",
      "-----------------\n",
      "Description: Top 10 workouts professional athletes use to stay in peak condition.\n",
      "Predicted category: WELLNESS\n",
      "-----------------\n",
      "Description: Basketball legend announces retirement after two decades in the sport.\n",
      "Predicted category: SPORTS\n",
      "-----------------\n",
      "Description: How to train for your first marathon: tips from elite runners.\n",
      "Predicted category: TRAVEL\n",
      "-----------------\n",
      "Description: The science behind muscle recovery and post-workout nutrition.\n",
      "Predicted category: WELLNESS\n",
      "-----------------\n",
      "Description: Why yoga is becoming a staple in NFL players' training routines.\n",
      "Predicted category: SPORTS\n",
      "-----------------\n",
      "Description: Highlights from last night's thrilling NBA playoff game.\n",
      "Predicted category: SPORTS\n",
      "-----------------\n",
      "Description: How mental resilience separates top athletes from the rest.\n",
      "Predicted category: SPORTS\n",
      "-----------------\n",
      "Description: Teen gymnast stuns judges with flawless Olympic routine.\n",
      "Predicted category: SPORTS\n",
      "-----------------\n"
     ]
    }
   ],
   "source": [
    "sports_descriptions = [\n",
    "    \"Local football team wins the championship after dramatic penalty shootout.\",\n",
    "    \"Olympic sprinter sets new world record in 100-meter dash.\",\n",
    "    \"Top 10 workouts professional athletes use to stay in peak condition.\",\n",
    "    \"Basketball legend announces retirement after two decades in the sport.\",\n",
    "    \"How to train for your first marathon: tips from elite runners.\",\n",
    "    \"The science behind muscle recovery and post-workout nutrition.\",\n",
    "    \"Why yoga is becoming a staple in NFL players' training routines.\",\n",
    "    \"Highlights from last night's thrilling NBA playoff game.\",\n",
    "    \"How mental resilience separates top athletes from the rest.\",\n",
    "    \"Teen gymnast stuns judges with flawless Olympic routine.\"\n",
    "]\n",
    "\n",
    "for desc in sports_descriptions:\n",
    "    predicted = predict_category(\n",
    "        desc,\n",
    "        model=model,\n",
    "        vocab=vocab,\n",
    "        categories=inv_cats,\n",
    "        device=device,\n",
    "        tokenize=tokenize,\n",
    "        PAD_IDX=PAD_IDX\n",
    "    )\n",
    "    print(\"Description:\", desc)\n",
    "    print(\"Predicted category:\", predicted)\n",
    "    print(\"-----------------\")"
   ]
  }
 ],
 "metadata": {
  "kernelspec": {
   "display_name": "Python (3.12)",
   "language": "python",
   "name": "p3.12"
  },
  "language_info": {
   "codemirror_mode": {
    "name": "ipython",
    "version": 3
   },
   "file_extension": ".py",
   "mimetype": "text/x-python",
   "name": "python",
   "nbconvert_exporter": "python",
   "pygments_lexer": "ipython3",
   "version": "3.12.11"
  }
 },
 "nbformat": 4,
 "nbformat_minor": 5
}
